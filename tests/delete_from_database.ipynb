{
 "cells": [
  {
   "cell_type": "code",
   "execution_count": 1,
   "metadata": {},
   "outputs": [],
   "source": [
    "from collections import deque\n",
    "import pickle\n",
    "import os\n",
    "from datetime import datetime, timedelta\n",
    "from supabase import create_client\n",
    "from dotenv import load_dotenv\n",
    "\n",
    "# Load environment variables\n",
    "load_dotenv()\n",
    "SUPABASE_URL = os.getenv('SUPABASE_URL')\n",
    "SUPABASE_KEY = os.getenv('API_KEY')\n",
    "\n",
    "supabase = create_client(SUPABASE_URL, SUPABASE_KEY)"
   ]
  },
  {
   "cell_type": "code",
   "execution_count": 15,
   "metadata": {},
   "outputs": [],
   "source": [
    "DATA_DIR = \"../data\"\n",
    "domain_files = [\"sports\", \"lifestyle\", \"technology\", \"business\", \"bollywood\"]"
   ]
  },
  {
   "cell_type": "code",
   "execution_count": 16,
   "metadata": {},
   "outputs": [],
   "source": [
    "# Load the queue\n",
    "def load_queue(domain):\n",
    "    QUEUE_FILE = os.path.join(DATA_DIR, f\"{domain}_queue.pkl\")\n",
    "    if os.path.exists(QUEUE_FILE):\n",
    "        with open(QUEUE_FILE, 'rb') as f:\n",
    "            return deque(pickle.load(f))  # Convert list back to deque\n",
    "    return deque()  # Return an empty deque if file doesn't exist\n",
    "\n",
    "# Save the updated queue\n",
    "def save_queue(queue, domain):\n",
    "    QUEUE_FILE = os.path.join(DATA_DIR, f\"{domain}_queue.pkl\")\n",
    "    with open(QUEUE_FILE, 'wb') as f:\n",
    "        pickle.dump(list(queue), f)  # Convert deque to list for saving\n",
    "    print(f\"Queue saved to {QUEUE_FILE}.\")"
   ]
  },
  {
   "cell_type": "code",
   "execution_count": 26,
   "metadata": {},
   "outputs": [],
   "source": [
    "# Delete outdated records\n",
    "def delete_outdated_records():\n",
    "    current_time = datetime.now()\n",
    "\n",
    "    for domain in domain_files:\n",
    "        queue = load_queue(domain)\n",
    "        print(len(queue))\n",
    "        updated_queue = deque()\n",
    "\n",
    "        while queue:\n",
    "            record_uuid = queue.popleft()  # Get the top element from the queue\n",
    "\n",
    "            # Retrieve the record's timestamp from Supabase\n",
    "            try:\n",
    "                response = supabase.table(\"NewsSentiment\").select(\"date_time\").eq(\"uuid\", record_uuid).execute()\n",
    "                if not response.data:\n",
    "                    print(f\"Record UUID {record_uuid} not found in database, skipping.\")\n",
    "                    continue\n",
    "                \n",
    "                record_time = datetime.strptime(response.data[0]['date_time'], \"%Y-%m-%dT%H:%M:%S\")  # Updated format\n",
    "                time_difference = current_time - record_time\n",
    "                # print(f\"record time = {record_time}\")\n",
    "                # print(f\"time difference = {time_difference}\")\n",
    "                # Check if the record is older than 24 hours\n",
    "                if time_difference > timedelta(hours=24):\n",
    "                    # Delete the record from the database\n",
    "                    supabase.table(\"NewsSentiment\").delete().eq(\"uuid\", record_uuid).execute()\n",
    "                    print(f\"Record UUID {record_uuid} deleted from database.\")\n",
    "\n",
    "                else:\n",
    "                    # If not outdated, add back to the queue\n",
    "                    updated_queue.append(record_uuid)\n",
    "\n",
    "            except Exception as e:\n",
    "                print(f\"Error processing record UUID {record_uuid}: {e}\")\n",
    "                \n",
    "\n",
    "        \n",
    "        # Save the updated queue\n",
    "        save_queue(updated_queue, domain)\n",
    "\n",
    "    print(\"Outdated record deletion process completed.\")"
   ]
  },
  {
   "cell_type": "code",
   "execution_count": 27,
   "metadata": {},
   "outputs": [
    {
     "name": "stdout",
     "output_type": "stream",
     "text": [
      "22\n",
      "Queue saved to ../data\\sports_queue.pkl.\n",
      "21\n",
      "Record UUID 41aa1cfe-fd5d-4383-a9d8-f033c715378d deleted from database.\n",
      "Record UUID ddd578cb-b0ca-4ede-bdda-94bb703254c5 deleted from database.\n",
      "Record UUID b0caa698-d3e0-4776-b38f-21397ea350e9 deleted from database.\n",
      "Record UUID e48109b9-f1c5-44da-8caa-48ce8758425b deleted from database.\n",
      "Record UUID 20a9f1a6-d8d9-4c2b-9d70-e1cd462e7bad deleted from database.\n",
      "Record UUID 874b9574-01f7-4220-b40c-9378cffafc98 deleted from database.\n",
      "Record UUID 6e88181a-a4f1-489b-b784-5bab78310d6c deleted from database.\n",
      "Record UUID c73c572e-6b66-4ae0-80b4-0e0e6dce34f0 deleted from database.\n",
      "Record UUID d3e90dbf-5388-4975-a1d7-a82da2007642 deleted from database.\n",
      "Record UUID 3f1f1c3d-7381-41b3-88c9-3babf366adf2 deleted from database.\n",
      "Record UUID b76d1c02-6571-4d6c-aeb7-581bca05cfc7 deleted from database.\n",
      "Record UUID 2a50a477-acf0-47df-8b8d-374d6ae6c5ff deleted from database.\n",
      "Record UUID b624c5bb-ff43-42a3-8a6a-65c8bc07322d deleted from database.\n",
      "Record UUID 4efb2b47-ce01-43e7-ad09-07e2a5055f27 deleted from database.\n",
      "Record UUID 3e2b6fe4-66f8-4a88-90b2-99aaef60d2ab deleted from database.\n",
      "Record UUID 5b2c7253-2aab-421c-9f90-fe5ed332f877 deleted from database.\n",
      "Record UUID a0715776-4957-4bd1-ae0f-c7b2900ac0aa deleted from database.\n",
      "Record UUID ebeb0271-082a-4aaf-87c3-b80c4be2df50 deleted from database.\n",
      "Queue saved to ../data\\lifestyle_queue.pkl.\n",
      "18\n",
      "Record UUID bffa641c-ccd4-4350-96eb-503697fd57f7 deleted from database.\n",
      "Record UUID a378eae4-ca08-4d19-811f-add0d2dfda09 deleted from database.\n",
      "Record UUID 55efbdd4-2d27-4e82-923e-22951a532da3 deleted from database.\n",
      "Queue saved to ../data\\technology_queue.pkl.\n",
      "21\n",
      "Record UUID 3e6a7b58-fb4d-4471-b903-9713b6fd1393 deleted from database.\n",
      "Record UUID 79b47665-b67a-4306-9bf4-9eb62de6bb3b deleted from database.\n",
      "Record UUID cc2e1c94-05d6-4a06-99d1-211a61cf93fa deleted from database.\n",
      "Record UUID c76c8ded-6027-4d61-ad00-18f4d3811f6b deleted from database.\n",
      "Record UUID 045e1d6d-c5ea-4abe-a020-6b326041f00c deleted from database.\n",
      "Queue saved to ../data\\business_queue.pkl.\n",
      "21\n",
      "Record UUID 221c14fc-badd-4ea5-a647-786bab0f43a8 deleted from database.\n",
      "Record UUID 8f58e369-5bdc-4a3a-ba78-ed08f1f4c3e0 deleted from database.\n",
      "Record UUID 18ac4bbc-fe51-4826-920d-920762fa0910 deleted from database.\n",
      "Record UUID 5b7ec88b-eeaa-4c32-bd6c-7ba219ab78f3 deleted from database.\n",
      "Record UUID 86907be7-009d-459b-8094-fa9767c42cda deleted from database.\n",
      "Record UUID 351a66bb-2364-454b-8e5d-2fb9ce67ca87 deleted from database.\n",
      "Record UUID e56dd86c-6710-4971-8f5e-762fe5aaf7c1 deleted from database.\n",
      "Record UUID 6d488387-a07f-4b95-a669-57dc5d81c8e3 deleted from database.\n",
      "Record UUID cf6b2f0d-605d-4297-98a9-97ac1bdb2b50 deleted from database.\n",
      "Record UUID 1e5cfe41-a85d-48e9-8ad5-ff812f3f6325 deleted from database.\n",
      "Record UUID 2b19c5f1-1e6c-4120-a402-118cd5ae7a3c deleted from database.\n",
      "Record UUID d3a2d436-d322-4c88-a250-1e5510a054e6 deleted from database.\n",
      "Record UUID 33fb7fa5-3004-4950-8916-7fee86f398bf deleted from database.\n",
      "Record UUID 7b192d7c-c87e-45a4-84a5-131a230a7426 deleted from database.\n",
      "Record UUID 7b515573-4dd8-424c-80fa-420ef0962cbb deleted from database.\n",
      "Record UUID c9b99f04-39f3-4562-9ddb-dd6c9b27a720 deleted from database.\n",
      "Record UUID 37ea4485-70e1-4fa7-9d7a-abc3f7240483 deleted from database.\n",
      "Queue saved to ../data\\bollywood_queue.pkl.\n",
      "Outdated record deletion process completed.\n"
     ]
    }
   ],
   "source": [
    "delete_outdated_records()"
   ]
  },
  {
   "cell_type": "code",
   "execution_count": null,
   "metadata": {},
   "outputs": [],
   "source": []
  }
 ],
 "metadata": {
  "kernelspec": {
   "display_name": "git_repos_venv",
   "language": "python",
   "name": "python3"
  },
  "language_info": {
   "codemirror_mode": {
    "name": "ipython",
    "version": 3
   },
   "file_extension": ".py",
   "mimetype": "text/x-python",
   "name": "python",
   "nbconvert_exporter": "python",
   "pygments_lexer": "ipython3",
   "version": "3.10.10"
  }
 },
 "nbformat": 4,
 "nbformat_minor": 2
}
