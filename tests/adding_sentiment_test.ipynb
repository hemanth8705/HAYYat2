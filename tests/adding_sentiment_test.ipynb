{
 "cells": [
  {
   "cell_type": "code",
   "execution_count": 1,
   "metadata": {},
   "outputs": [],
   "source": [
    "import os\n",
    "import pandas as pd\n",
    "from textblob import TextBlob\n"
   ]
  },
  {
   "cell_type": "code",
   "execution_count": 2,
   "metadata": {},
   "outputs": [],
   "source": [
    "# Directory for storing data\n",
    "DATA_DIR = \"../data\"\n"
   ]
  },
  {
   "cell_type": "code",
   "execution_count": 3,
   "metadata": {},
   "outputs": [],
   "source": [
    "# Domains and their respective CSV files\n",
    "domain_files = {\n",
    "    \"sports\": \"sports_articles.csv\",\n",
    "    \"technology\": \"technology_articles.csv\",\n",
    "    \"health\": \"health_articles.csv\",\n",
    "    \"entertainment\": \"entertainment_articles.csv\",\n",
    "    \"business\": \"business_articles.csv\",\n",
    "}"
   ]
  },
  {
   "cell_type": "code",
   "execution_count": 4,
   "metadata": {},
   "outputs": [],
   "source": [
    "# Function to preprocess text\n",
    "def preprocess_text(text):\n",
    "    # Add your preprocessing steps here\n",
    "    # For example: lowercasing, removing punctuation, etc.\n",
    "    text = text.lower()\n",
    "    text = \"\".join(char for char in text if char.isalnum() or char.isspace())\n",
    "    return text"
   ]
  },
  {
   "cell_type": "code",
   "execution_count": 11,
   "metadata": {},
   "outputs": [],
   "source": [
    "# Function to analyze sentiment\n",
    "def analyze_sentiment(text):\n",
    "    blob = TextBlob(text)\n",
    "    polarity = blob.sentiment.polarity\n",
    "    print(polarity)\n",
    "\n",
    "    if polarity > 0:\n",
    "        return 1, 0, 0  # Positive\n",
    "    elif polarity < 0:\n",
    "        return 0, 1, 0  # Negative\n",
    "    else:\n",
    "        return 0, 0, 1  # Neutral"
   ]
  },
  {
   "cell_type": "code",
   "execution_count": 15,
   "metadata": {},
   "outputs": [],
   "source": [
    "text = \"\"\"Thaman S: The creative force behind hits like Ramuloo Ramulaa and Nain MattakaThaman S, famed for his South Indian hits, is set to debut his first full Bollywood album with Baby John this Christmas. The film stars Varun Dhawan in the lead and the will be released on December 25.\",https://www.indiatoday.in/movies/bollywood/story/meet-thaman-s-man-behind-tracks-like-ramuloo-ramulaa-nain-mattaka-baby-john-varun-dhawan-2651892-2024-12-18,\"If you’re a fan of South Indian cinema and its infectious music, chances are you’ve found yourself dancing to Ramuloo Ramulaa from Ala Vaikunthapurramuloo. But do you know the musical genius behind this chartbuster? Enter Thaman S, the maestro whose compositions have become chartbusters. He is set to make waves in Bollywood with his debut full album for Varun Dhawan’s Christmas release, Baby John. Here’s everything you need to know about this prolific composer and his extraordinary journey. Born as Ghantasala Sai Srinivas in Nellore, Andhra Pradesh, Thaman comes from a lineage steeped in music. His grandfather, Ghantasala Balaramayya, was a celebrated director and producer, while his father, Ghantasala Siva Kumar, was a renowned drummer who worked in over 700 films with legendary composer K Chakravarthy. His mother, Ghantasala Savitri, sister Yamini, and aunt B. Vasantha have all lent their voices as playback singers. Growing up in a Telugu-speaking family of musicians in Chennai, Thaman was immersed in the rhythms and melodies that would later define his career.   Thaman made his debut as a music director with Kick (2009) and has since become one of the most sought-after composers in South Indian cinema. His discography reads like a greatest-hits playlist -- Race Gurram, Sarrainodu, Tuck Jagadish, Sarkaru Vaari Paata, Varisu, and Guntur Kaaram. Each project showcased his knack for blending traditional Indian sounds with modern beats, creating tracks that resonate with listeners across generations and regions. It’s not just his music, but also his collaborations with top stars like Allu Arjun, Mahesh Babu, and Vijay that have cemented his position as a musical powerhouse. Tracks like Butta Bomma and Jai Balayya are proof of his ability to craft earworms that linger long after the credits roll.   While Thaman has dabbled in Bollywood before, composing the main theme for Simmba, Jai Bajrangbali for Singham Again, and the title track for Golmaal Again, Baby John marks his full-fledged album debut. Fans are eagerly awaiting how his signature style translates to Bollywood’s diverse musical landscape. Thaman’s entry into Bollywood is a natural progression for a composer who has already achieved superstar status in the South. With Baby John releasing this Christmas, he’s set to introduce a whole new audience to his distinctive sound.   Thaman’s appeal lies in his ability to innovate while staying true to his roots. Whether it’s the pulsating beats of Ramuloo Ramulaa or the soulful melodies of Butta Bomma, his compositions have a universal quality that transcends language and culture.   For those unfamiliar with Thaman’s work, now is the perfect time to explore his discography. Start with Ala Vaikunthapurramuloo and Race Gurram, then dive into his latest releases like Varisu and Guntur Kaaram. With Baby John just around the corner, Thaman S is poised to become a household name not just in India but globally. Whether you’re a die-hard fan or a curious newcomer, Thaman’s music promises a journey full of rhythm, emotion, and unforgettable melodies.Published By: Trisha BhattacharyaPublished On: Dec 18, 2024ALSO READ |  Varun Dhawan's Baby John: What to expect from the remake of Atlee's Theri\n",
    "\"\"\""
   ]
  },
  {
   "cell_type": "code",
   "execution_count": 13,
   "metadata": {},
   "outputs": [
    {
     "name": "stdout",
     "output_type": "stream",
     "text": [
      "0.24957386363636364\n"
     ]
    },
    {
     "data": {
      "text/plain": [
       "(1, 0, 0)"
      ]
     },
     "execution_count": 13,
     "metadata": {},
     "output_type": "execute_result"
    }
   ],
   "source": [
    "analyze_sentiment(text)"
   ]
  },
  {
   "cell_type": "code",
   "execution_count": 18,
   "metadata": {},
   "outputs": [
    {
     "name": "stdout",
     "output_type": "stream",
     "text": [
      "Positive: 28.499999999999996%\n",
      "Negative: 14.6%\n"
     ]
    }
   ],
   "source": [
    "from vaderSentiment.vaderSentiment import SentimentIntensityAnalyzer\n",
    "\n",
    "analyzer = SentimentIntensityAnalyzer()\n",
    "text = \"hey i am sad but i m glad ur here\"\n",
    "\n",
    "# Get sentiment scores (positive, negative, neutral, and compound)\n",
    "scores = analyzer.polarity_scores(text)\n",
    "\n",
    "# Extract positive and negative percentages\n",
    "positive_percentage = scores['pos'] * 100\n",
    "negative_percentage = scores['neg'] * 100\n",
    "\n",
    "print(f\"Positive: {positive_percentage}%\")\n",
    "print(f\"Negative: {negative_percentage}%\")\n"
   ]
  },
  {
   "cell_type": "code",
   "execution_count": 23,
   "metadata": {},
   "outputs": [],
   "source": [
    "\n",
    "# Function to analyze sentiment using VADER\n",
    "def analyze_sentiment(text):\n",
    "    analyzer = SentimentIntensityAnalyzer()\n",
    "    # Get sentiment scores (positive, negative, neutral, and compound)\n",
    "    scores = analyzer.polarity_scores(text)\n",
    "    \n",
    "    # Extract positive and negative percentages and round them to 2 decimals\n",
    "    positive_percentage = round(scores['pos'] * 100, 2)\n",
    "    negative_percentage = round(scores['neg'] * 100, 2)\n",
    "    \n",
    "    # Return positive and negative percentages\n",
    "    return positive_percentage, negative_percentage\n",
    "\n",
    "# Function to process each domain's articles\n",
    "def process_domain(domain, file_name):\n",
    "    file_path = os.path.join(DATA_DIR, file_name)\n",
    "\n",
    "    if not os.path.exists(file_path):\n",
    "        print(f\"File for domain '{domain}' not found: {file_name}\")\n",
    "        return\n",
    "\n",
    "    # Read the CSV file\n",
    "    df = pd.read_csv(file_path)\n",
    "\n",
    "    # Add sentiment columns\n",
    "    df[\"Positive\"] = 0\n",
    "    df[\"Negative\"] = 0\n",
    "\n",
    "    # Process each row\n",
    "    for index, row in df.iterrows():\n",
    "        headline = preprocess_text(row[\"Headline\"])\n",
    "        content = preprocess_text(row[\"Content\"])\n",
    "\n",
    "        # Combine headline and content for sentiment analysis\n",
    "        combined_text = f\"{headline} {content}\"\n",
    "        positive_percentage, negative_percentage = analyze_sentiment(combined_text)\n",
    "\n",
    "        # Store the results in the dataframe\n",
    "        df.at[index, \"Positive\"] = positive_percentage\n",
    "        df.at[index, \"Negative\"] = negative_percentage\n",
    "\n",
    "    # Save the updated CSV\n",
    "    df.to_csv(file_path, index=False)\n",
    "    print(f\"Sentiment analysis completed for domain: {domain}\")"
   ]
  },
  {
   "cell_type": "code",
   "execution_count": 24,
   "metadata": {},
   "outputs": [],
   "source": [
    "# Main script execution\n",
    "def main():\n",
    "    for domain, file_name in domain_files.items():\n",
    "        print(f\"Processing domain: {domain}\")\n",
    "        process_domain(domain, file_name)\n",
    "        break"
   ]
  },
  {
   "cell_type": "code",
   "execution_count": 25,
   "metadata": {},
   "outputs": [
    {
     "name": "stdout",
     "output_type": "stream",
     "text": [
      "Processing domain: sports\n"
     ]
    },
    {
     "name": "stderr",
     "output_type": "stream",
     "text": [
      "C:\\Users\\SYAM\\AppData\\Local\\Temp\\ipykernel_27112\\428339302.py:39: FutureWarning: Setting an item of incompatible dtype is deprecated and will raise an error in a future version of pandas. Value '15.5' has dtype incompatible with int64, please explicitly cast to a compatible dtype first.\n",
      "  df.at[index, \"Positive\"] = positive_percentage\n",
      "C:\\Users\\SYAM\\AppData\\Local\\Temp\\ipykernel_27112\\428339302.py:40: FutureWarning: Setting an item of incompatible dtype is deprecated and will raise an error in a future version of pandas. Value '3.1' has dtype incompatible with int64, please explicitly cast to a compatible dtype first.\n",
      "  df.at[index, \"Negative\"] = negative_percentage\n"
     ]
    },
    {
     "name": "stdout",
     "output_type": "stream",
     "text": [
      "Sentiment analysis completed for domain: sports\n"
     ]
    }
   ],
   "source": [
    "main()"
   ]
  },
  {
   "cell_type": "code",
   "execution_count": null,
   "metadata": {},
   "outputs": [],
   "source": []
  }
 ],
 "metadata": {
  "kernelspec": {
   "display_name": "git_repos_venv",
   "language": "python",
   "name": "python3"
  },
  "language_info": {
   "codemirror_mode": {
    "name": "ipython",
    "version": 3
   },
   "file_extension": ".py",
   "mimetype": "text/x-python",
   "name": "python",
   "nbconvert_exporter": "python",
   "pygments_lexer": "ipython3",
   "version": "3.10.10"
  }
 },
 "nbformat": 4,
 "nbformat_minor": 2
}
