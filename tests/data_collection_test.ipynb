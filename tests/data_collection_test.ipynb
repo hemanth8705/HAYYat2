{
 "cells": [
  {
   "cell_type": "code",
   "execution_count": 15,
   "metadata": {},
   "outputs": [],
   "source": [
    "import os\n",
    "import pickle\n",
    "import uuid\n",
    "import csv\n",
    "import re\n",
    "from datetime import datetime\n",
    "import requests as rq\n",
    "from bs4 import BeautifulSoup"
   ]
  },
  {
   "cell_type": "code",
   "execution_count": 2,
   "metadata": {},
   "outputs": [],
   "source": [
    "domain_urls = {\n",
    "    \"bollywood\": \"https://www.indiatoday.in/movies/bollywood\",\n",
    "    \"technology\": \"https://www.indiatoday.in/technology\",\n",
    "    \"lifestyle\": \"https://www.indiatoday.in/lifestyle\",\n",
    "    \"sports\": \"https://www.indiatoday.in/sports\",\n",
    "    \"business\": \"https://www.indiatoday.in/business\",\n",
    "}\n"
   ]
  },
  {
   "cell_type": "code",
   "execution_count": 4,
   "metadata": {},
   "outputs": [],
   "source": [
    "# Directory for storing data\n",
    "DATA_DIR = \"../data\"\n",
    "os.makedirs(DATA_DIR, exist_ok=True)"
   ]
  },
  {
   "cell_type": "code",
   "execution_count": 5,
   "metadata": {},
   "outputs": [],
   "source": [
    "# Function to fetch and parse articles from a domain\n",
    "def fetch_all_articles(url):\n",
    "    try:\n",
    "        response = requests.get(url)\n",
    "        response.raise_for_status()\n",
    "        soup = BeautifulSoup(response.text, 'html.parser')\n",
    "\n",
    "        # Example article extraction logic (update selectors based on site structure)\n",
    "        articles = []\n",
    "        for article_tag in soup.select(\"article\"):\n",
    "            headline = article_tag.select_one(\"h2\").text.strip()\n",
    "            link = article_tag.select_one(\"a\")[\"href\"]\n",
    "            content = article_tag.select_one(\"p\").text.strip()\n",
    "            articles.append({\"headline\": headline, \"link\": link, \"content\": content})\n",
    "\n",
    "        return articles\n",
    "    except Exception as e:\n",
    "        print(f\"Error fetching articles from {url}: {e}\")\n",
    "        return []"
   ]
  },
  {
   "cell_type": "code",
   "execution_count": 8,
   "metadata": {},
   "outputs": [],
   "source": [
    "all_articles = fetch_articles(domain_urls[\"business\"])"
   ]
  },
  {
   "cell_type": "code",
   "execution_count": 13,
   "metadata": {},
   "outputs": [
    {
     "data": {
      "text/plain": [
       "{'headline': 'Will 2025 bring a bull run? Key trends for Nifty to watch',\n",
       " 'link': '/business/story/icici-securities-says-bullish-2025-ahead-nifty-outlook-to-hit-28800-with-sectoral-leaders-in-focus-2651753-2024-12-18',\n",
       " 'content': 'ICICI Securities projects a 20% rise in Nifty for 2025, driven by historical trends, sectoral strength, and strategic stock picks.'}"
      ]
     },
     "execution_count": 13,
     "metadata": {},
     "output_type": "execute_result"
    }
   ],
   "source": [
    "all_articles[0]"
   ]
  },
  {
   "cell_type": "code",
   "execution_count": 11,
   "metadata": {},
   "outputs": [],
   "source": [
    "# Function to process articles and identify new ones\n",
    "def process_articles(domain, articles):\n",
    "    pickle_file = os.path.join(DATA_DIR, f\"{domain}_headlines.pkl\")\n",
    "    unique_headlines = set()\n",
    "\n",
    "    # Attempt to load existing headlines, create the pickle file if not found\n",
    "    try:\n",
    "        with open(pickle_file, \"rb\") as f:\n",
    "            unique_headlines = pickle.load(f)\n",
    "    except FileNotFoundError:\n",
    "        # If the file does not exist, just continue with an empty set of unique headlines\n",
    "        print(f\"Pickle file for domain '{domain}' not found. Creating a new one.\")\n",
    "\n",
    "    new_articles = []\n",
    "\n",
    "    for article in articles:\n",
    "        if article[\"headline\"] in unique_headlines:\n",
    "            continue  # Skip this article if the headline is already processed\n",
    "        unique_headlines.add(article[\"headline\"])\n",
    "        new_articles.append(article)\n",
    "\n",
    "    # Save updated unique headlines back to pickle file\n",
    "    with open(pickle_file, \"wb\") as f:\n",
    "        pickle.dump(unique_headlines, f)\n",
    "    if not new_articles:\n",
    "        print(f\"NO new articles were added in {domain}\")\n",
    "    return new_articles"
   ]
  },
  {
   "cell_type": "code",
   "execution_count": 12,
   "metadata": {},
   "outputs": [
    {
     "name": "stdout",
     "output_type": "stream",
     "text": [
      "NO new articles were added in business\n"
     ]
    },
    {
     "data": {
      "text/plain": [
       "[]"
      ]
     },
     "execution_count": 12,
     "metadata": {},
     "output_type": "execute_result"
    }
   ],
   "source": [
    "process_articles(\"business\",all_articles)"
   ]
  },
  {
   "cell_type": "code",
   "execution_count": 14,
   "metadata": {},
   "outputs": [],
   "source": [
    "# Function to get detailed article information\n",
    "def get_article_details(url):\n",
    "    try:\n",
    "        data = rq.get(url)\n",
    "        soup = BeautifulSoup(data.text, \"html.parser\")\n",
    "        soup.prettify()\n",
    "        text_find = soup.find(\"h1\")\n",
    "        date_time_find = soup.find(\"span\", class_=\"jsx-ace90f4eca22afc7 strydate\")\n",
    "\n",
    "        if text_find and date_time_find:\n",
    "            head_lines = text_find.text\n",
    "            content = \" \".join([para.text for para in soup.find_all(\"p\")[1:]])\n",
    "            date_time = date_time_find.text\n",
    "\n",
    "            pattern = r\"UPDATED:\\s+(\\w{3}\\s\\d{1,2},\\s\\d{4}\\s\\d{2}:\\d{2}\\sIST)\"\n",
    "            match = re.findall(pattern, date_time)\n",
    "\n",
    "            if match:\n",
    "                date_format = \"%b %d, %Y %H:%M IST\"\n",
    "                article_time = datetime.strptime(match[0], date_format)\n",
    "                return content, article_time\n",
    "\n",
    "    except Exception as e:\n",
    "        print(f\"Error extracting article details from {url}: {e}\")\n",
    "    return None"
   ]
  },
  {
   "cell_type": "code",
   "execution_count": 19,
   "metadata": {},
   "outputs": [],
   "source": [
    "def add_content_and_time(new_articles):\n",
    "    for article in new_articles:\n",
    "        news_link = article['link']\n",
    "        if \"https\" not in news_link:\n",
    "            news_link = \"https://www.indiatoday.in\" + news_link\n",
    "        details = get_article_details(news_link)\n",
    "\n",
    "        if details:\n",
    "            content, article_time = details\n",
    "            article[\"content\"] = content\n",
    "            article[\"date_time\"] = article_time\n",
    "            article[\"link\"] = news_link\n",
    "    return new_articles\n",
    "    "
   ]
  },
  {
   "cell_type": "code",
   "execution_count": 22,
   "metadata": {},
   "outputs": [],
   "source": [
    "new_articles = add_content_and_time(all_articles)"
   ]
  },
  {
   "cell_type": "code",
   "execution_count": 26,
   "metadata": {},
   "outputs": [],
   "source": [
    "# Function to save new articles to a CSV file\n",
    "def save_to_csv(domain, articles):\n",
    "    csv_file = os.path.join(DATA_DIR, f\"{domain}_articles.csv\")\n",
    "    print(csv_file)\n",
    "    is_new_file = not os.path.exists(csv_file)\n",
    "\n",
    "    with open(csv_file, \"a\", newline='', encoding=\"utf-8\") as f:\n",
    "        writer = csv.writer(f)\n",
    "\n",
    "        # Write header if file is new\n",
    "        if is_new_file:\n",
    "            writer.writerow([\"UUID\", \"Headline\", \"Link\", \"Content\", \"Category\", \"DateTime\"])\n",
    "\n",
    "        for article in articles:\n",
    "            writer.writerow([\n",
    "                str(uuid.uuid4()),\n",
    "                article[\"headline\"],\n",
    "                article[\"link\"],\n",
    "                article[\"content\"],\n",
    "                domain,\n",
    "                article[\"date_time\"].isoformat()\n",
    "            ])"
   ]
  },
  {
   "cell_type": "code",
   "execution_count": 27,
   "metadata": {},
   "outputs": [
    {
     "name": "stdout",
     "output_type": "stream",
     "text": [
      "../data\\business_articles.csv\n"
     ]
    }
   ],
   "source": [
    "save_to_csv(\"business\" , new_articles)"
   ]
  },
  {
   "cell_type": "markdown",
   "metadata": {},
   "source": [
    "### MY test"
   ]
  },
  {
   "cell_type": "code",
   "execution_count": 62,
   "metadata": {},
   "outputs": [],
   "source": [
    "import re\n",
    "import requests as rq\n",
    "from bs4 import BeautifulSoup\n",
    "import pandas as pd\n",
    "from datetime import datetime"
   ]
  },
  {
   "cell_type": "code",
   "execution_count": 66,
   "metadata": {},
   "outputs": [],
   "source": [
    "url = \"https://www.indiatoday.in/movies/bollywood\"\n",
    "# url = \"https://www.indiatoday.in/technology\"\n",
    "# url = \"https://www.indiatoday.in/lifestyle\"\n",
    "url = \"https://www.indiatoday.in/sports\"\n",
    "url = \"https://www.indiatoday.in/business\""
   ]
  },
  {
   "cell_type": "code",
   "execution_count": 67,
   "metadata": {},
   "outputs": [
    {
     "name": "stdout",
     "output_type": "stream",
     "text": [
      "https://www.indiatoday.in/movies/bollywood executed\n"
     ]
    }
   ],
   "source": [
    "data = rq.get(url)\n",
    "if data.status_code == 200:\n",
    "    print(url, \"executed\")\n",
    "    s = BeautifulSoup(data.text, \"html.parser\")\n",
    "    all_articles = s.find_all(\"div\", {\"class\": \"B1S3_content__wrap__9mSB6\"})\n",
    "    category = url.split(\"/\")[-1] if url.split(\"/\")[-1] else \"General News\""
   ]
  },
  {
   "cell_type": "code",
   "execution_count": 68,
   "metadata": {},
   "outputs": [
    {
     "data": {
      "text/plain": [
       "<div class=\"B1S3_content__wrap__9mSB6\"><h2 class=\"\"><a href=\"/movies/bollywood/story/meet-thaman-s-man-behind-tracks-like-ramuloo-ramulaa-nain-mattaka-baby-john-varun-dhawan-2651892-2024-12-18\" title=\"Thaman S: The creative force behind hits like Ramuloo Ramulaa and Nain Mattaka\">Thaman S: The creative force behind hits like Ramuloo Ramulaa and Nain Mattaka</a></h2><div class=\"B1S3_sub__title__with__rating__7rtuJ sub__title__with__rating\"></div><div class=\"B1S3_story__shortcont__inicf\"><p>Thaman S, famed for his South Indian hits, is set to debut his first full Bollywood album with Baby John this Christmas. The film stars Varun Dhawan in the lead and the will be released on December 25.</p></div></div>"
      ]
     },
     "execution_count": 68,
     "metadata": {},
     "output_type": "execute_result"
    }
   ],
   "source": [
    "all_articles[0]"
   ]
  },
  {
   "cell_type": "code",
   "execution_count": 69,
   "metadata": {},
   "outputs": [],
   "source": [
    "data_frame = {\"headlines\": [], \"link\": [], \"content\": [], \"category\": [] , \"date_time\" : []}"
   ]
  },
  {
   "cell_type": "code",
   "execution_count": 70,
   "metadata": {},
   "outputs": [],
   "source": [
    "def get_article_details(url):\n",
    "    data = rq.get(url)\n",
    "    s = BeautifulSoup(data.text, \"html.parser\")\n",
    "    s.prettify()\n",
    "    text_find , date_time_find = s.find(\"h1\") , s.find(\"span\" , class_ = \"jsx-ace90f4eca22afc7 strydate\")\n",
    "    if text_find and date_time_find:\n",
    "      head_lines = text_find.text\n",
    "      content = \" \".join([para.text for para in s.find_all(\"p\")[1:]])\n",
    "      date_time = date_time_find.text\n",
    "      pattern = r\"UPDATED:\\s+(\\w{3}\\s\\d{1,2},\\s\\d{4}\\s\\d{2}:\\d{2}\\sIST)\"\n",
    "      match = re.findall(pattern, date_time)\n",
    "      date_format = \"%b %d, %Y %H:%M IST\"\n",
    "      article_time = datetime.strptime(match[0], date_format)\n",
    "      \n",
    "      return content,article_time\n",
    "    return None"
   ]
  },
  {
   "cell_type": "code",
   "execution_count": 71,
   "metadata": {},
   "outputs": [
    {
     "data": {
      "text/plain": [
       "(\"If you’re a fan of South Indian cinema and its infectious music, chances are you’ve found yourself dancing to Ramuloo Ramulaa from Ala Vaikunthapurramuloo. But do you know the musical genius behind this chartbuster? Enter Thaman S, the maestro whose compositions have become chartbusters. He is set to make waves in Bollywood with his debut full album for Varun Dhawan’s Christmas release, Baby John. Here’s everything you need to know about this prolific composer and his extraordinary journey. Born as Ghantasala Sai Srinivas in Nellore, Andhra Pradesh, Thaman comes from a lineage steeped in music. His grandfather, Ghantasala Balaramayya, was a celebrated director and producer, while his father, Ghantasala Siva Kumar, was a renowned drummer who worked in over 700 films with legendary composer K Chakravarthy. His mother, Ghantasala Savitri, sister Yamini, and aunt B. Vasantha have all lent their voices as playback singers. Growing up in a Telugu-speaking family of musicians in Chennai, Thaman was immersed in the rhythms and melodies that would later define his career.   Thaman made his debut as a music director with Kick (2009) and has since become one of the most sought-after composers in South Indian cinema. His discography reads like a greatest-hits playlist -- Race Gurram, Sarrainodu, Tuck Jagadish, Sarkaru Vaari Paata, Varisu, and Guntur Kaaram. Each project showcased his knack for blending traditional Indian sounds with modern beats, creating tracks that resonate with listeners across generations and regions. It’s not just his music, but also his collaborations with top stars like Allu Arjun, Mahesh Babu, and Vijay that have cemented his position as a musical powerhouse. Tracks like Butta Bomma and Jai Balayya are proof of his ability to craft earworms that linger long after the credits roll.   While Thaman has dabbled in Bollywood before, composing the main theme for Simmba, Jai Bajrangbali for Singham Again, and the title track for Golmaal Again, Baby John marks his full-fledged album debut. Fans are eagerly awaiting how his signature style translates to Bollywood’s diverse musical landscape. Thaman’s entry into Bollywood is a natural progression for a composer who has already achieved superstar status in the South. With Baby John releasing this Christmas, he’s set to introduce a whole new audience to his distinctive sound.   Thaman’s appeal lies in his ability to innovate while staying true to his roots. Whether it’s the pulsating beats of Ramuloo Ramulaa or the soulful melodies of Butta Bomma, his compositions have a universal quality that transcends language and culture.   For those unfamiliar with Thaman’s work, now is the perfect time to explore his discography. Start with Ala Vaikunthapurramuloo and Race Gurram, then dive into his latest releases like Varisu and Guntur Kaaram. With Baby John just around the corner, Thaman S is poised to become a household name not just in India but globally. Whether you’re a die-hard fan or a curious newcomer, Thaman’s music promises a journey full of rhythm, emotion, and unforgettable melodies.Published By: Trisha BhattacharyaPublished On: Dec 18, 2024ALSO READ |  Varun Dhawan's Baby John: What to expect from the remake of Atlee's Theri\\n\",\n",
       " datetime.datetime(2024, 12, 18, 20, 55))"
      ]
     },
     "execution_count": 71,
     "metadata": {},
     "output_type": "execute_result"
    }
   ],
   "source": [
    "temp_article = \"https://www.indiatoday.in/movies/bollywood/story/meet-thaman-s-man-behind-tracks-like-ramuloo-ramulaa-nain-mattaka-baby-john-varun-dhawan-2651892-2024-12-18\"\n",
    "get_article_details(temp_article)"
   ]
  },
  {
   "cell_type": "code",
   "execution_count": 72,
   "metadata": {},
   "outputs": [],
   "source": [
    "def data_frame_creation(data_frame, all_articles, category):\n",
    "    for article in all_articles:\n",
    "        link = article.find(\"a\").get(\"href\")\n",
    "        news_link = link\n",
    "        if \"https\" not in news_link:\n",
    "            news_link = \"https://www.indiatoday.in\" + news_link\n",
    "        content, article_date_time = get_article_details(news_link)\n",
    "        if content:\n",
    "            data_frame[\"content\"].append(content)\n",
    "            data_frame[\"link\"].append(news_link)\n",
    "            data_frame[\"headlines\"].append(article.text)\n",
    "            data_frame[\"category\"].append(category)\n",
    "            data_frame[\"date_time\"].append(article_date_time)"
   ]
  },
  {
   "cell_type": "code",
   "execution_count": 73,
   "metadata": {},
   "outputs": [],
   "source": [
    "data_frame_creation(data_frame, all_articles, category)"
   ]
  },
  {
   "cell_type": "code",
   "execution_count": 75,
   "metadata": {},
   "outputs": [],
   "source": [
    "df = pd.DataFrame(data_frame)"
   ]
  },
  {
   "cell_type": "code",
   "execution_count": 80,
   "metadata": {},
   "outputs": [
    {
     "name": "stdout",
     "output_type": "stream",
     "text": [
      "2024-12-18 20:55:00\n"
     ]
    }
   ],
   "source": [
    "print(df.iloc[0][\"date_time\"])"
   ]
  },
  {
   "cell_type": "code",
   "execution_count": 51,
   "metadata": {},
   "outputs": [
    {
     "name": "stdout",
     "output_type": "stream",
     "text": [
      "<div class=\"B1S3_content__wrap__9mSB6\"><h2 class=\"\"><a href=\"/technology/news/story/sam-altman-is-apparently-trying-to-remove-the-organisation-that-tried-to-remove-him-from-openai-last-year-2651451-2024-12-18\" title=\"Sam Altman aims to oust the group that tried to fire him from OpenAI last year\">Sam Altman aims to oust the group that tried to fire him from OpenAI last year</a></h2><div class=\"B1S3_sub__title__with__rating__7rtuJ sub__title__with__rating\"></div><div class=\"B1S3_story__shortcont__inicf\"><p>In a bid to restructure OpenAI from a non-profit to a for-profit organisation, the company's CEO Sam Altman is apparently trying to remove the organisation that tried to remove him from the company last year.</p></div></div>\n",
      "UPDATED: Dec 18, 2024 09:04 IST\n",
      "UPDATED: Dec 18, 2024 10:46 IST\n",
      "UPDATED: Dec 18, 2024 10:28 IST\n",
      "UPDATED: Dec 18, 2024 18:49 IST\n",
      "UPDATED: Dec 18, 2024 16:43 IST\n",
      "UPDATED: Dec 18, 2024 16:15 IST\n",
      "UPDATED: Dec 18, 2024 16:18 IST\n",
      "UPDATED: Dec 18, 2024 14:28 IST\n",
      "UPDATED: Dec 18, 2024 13:27 IST\n",
      "UPDATED: Dec 18, 2024 13:24 IST\n",
      "UPDATED: Dec 18, 2024 12:10 IST\n",
      "UPDATED: Dec 18, 2024 12:08 IST\n",
      "UPDATED: Dec 18, 2024 10:32 IST\n",
      "UPDATED: Dec 18, 2024 10:28 IST\n",
      "UPDATED: Dec 18, 2024 13:37 IST\n",
      "UPDATED: Dec 18, 2024 09:04 IST\n",
      "UPDATED: Dec 18, 2024 10:46 IST\n",
      "UPDATED: Dec 17, 2024 19:56 IST\n",
      "UPDATED: Dec 17, 2024 19:00 IST\n",
      "UPDATED: Dec 17, 2024 18:50 IST\n",
      "UPDATED: Dec 18, 2024 13:03 IST\n",
      "UPDATED: Dec 18, 2024 18:49 IST\n",
      "UPDATED: Dec 18, 2024 16:43 IST\n",
      "UPDATED: Dec 18, 2024 16:15 IST\n",
      "UPDATED: Dec 18, 2024 16:18 IST\n",
      "UPDATED: Dec 18, 2024 14:28 IST\n"
     ]
    }
   ],
   "source": [
    "## code snippet to add time and run tests on it\n",
    "temp_article = all_articles[0]\n",
    "print(temp_article)\n",
    "for article in all_articles:\n",
    "    news_link = article.find(\"a\").get(\"href\")\n",
    "    if \"https\" not in news_link:\n",
    "        news_link = \"https://www.indiatoday.in\" + news_link\n",
    "    data = rq.get(news_link)\n",
    "    s = BeautifulSoup(data.text, \"html.parser\")\n",
    "    s.prettify()\n",
    "    if s.find(\"span\" , class_ = \"jsx-ace90f4eca22afc7 strydate\"):\n",
    "        print(s.find(\"span\" , class_ = \"jsx-ace90f4eca22afc7 strydate\").text)\n",
    "    else:\n",
    "        print(\"not found the exact class\")\n"
   ]
  },
  {
   "cell_type": "code",
   "execution_count": 43,
   "metadata": {},
   "outputs": [
    {
     "data": {
      "text/plain": [
       "'https://www.indiatoday.in/lifestyle/wellness/story/with-kendall-and-hailey-backing-it-will-nad-witness-a-boom-in-indian-market-2651846-2024-12-18'"
      ]
     },
     "execution_count": 43,
     "metadata": {},
     "output_type": "execute_result"
    }
   ],
   "source": [
    "news_link"
   ]
  },
  {
   "cell_type": "code",
   "execution_count": 42,
   "metadata": {},
   "outputs": [
    {
     "data": {
      "text/plain": [
       "'With Kendall and Hailey backing it, will NAD+ witness a boom in Indian market?'"
      ]
     },
     "execution_count": 42,
     "metadata": {},
     "output_type": "execute_result"
    }
   ],
   "source": [
    "head_lines"
   ]
  },
  {
   "cell_type": "code",
   "execution_count": 41,
   "metadata": {},
   "outputs": [
    {
     "data": {
      "text/plain": [
       "'In the ever-evolving world of health and wellness, a molecule called NAD+ (Nicotinamide Adenine Dinucleotide) has emerged as the new buzzword. Celebrities worldwide, from Hollywood A-listers to Indian fitness enthusiasts, are singing its praises, calling it the “magic molecule” for youth, energy, and longevity. But what is NAD+, why are stars obsessed with it, and how is it impacting the Indian wellness market? Dr Anjali Hooda, a renowned MD and Internist, explains, “NAD+ is a coenzyme found in all living cells. It plays a critical role in energy production, DNA repair, and slowing the ageing process. As we age, NAD+ levels decline, leading to fatigue, reduced cognitive function, and visible signs of ageing. Boosting NAD+ levels can help rejuvenate the body at a cellular level.”Why celebrities are hooked From Kendall Jenner to Hailey Beiber, celebrities are reportedly using NAD+ therapies for their anti-ageing and energy-boosting effects. Intravenous (IV) NAD+ drips have become a sought-after treatment among the elite, promising to enhance mental clarity, physical performance, and even recovery from jet lag or rigorous schedules.\\n\\n \\n\\n\\n\\nIntravenous (IV) NAD+ drips have become a sought-after treatment among the elite. (Photo: Unsplash)\\n Bollywood has not been left behind. Indian stars, under the guidance of experts like Dr Hooda, are embracing NAD+ to maintain their hectic lifestyles and youthful appearances. “Actors and performers need peak energy levels and radiant skin, which NAD+ helps achieve. It’s no surprise they’re obsessed with it,” she says.How NAD+ works its magic NAD+ supports mitochondrial function - the powerhouse of our cells - helping convert food into energy. It also activates sirtuins, proteins associated with longevity and repair. By replenishing NAD+ levels, individuals may experience improved metabolism, better focus, and resistance to age-related diseases. Dr Hooda points out that while IV treatments are popular among celebrities, oral supplements, NAD+ precursors like NMN (Nicotinamide Mononucleotide), and even topical applications are entering the mainstream.Impact on the Indian market India’s wellness industry, already booming with trends like IV therapy bars and biohacking clinics, is rapidly adopting NAD+ treatments. Luxury wellness centers in cities like Mumbai, Delhi, and Bengaluru are offering NAD+ IV drips, priced between Rs 10,000 to Rs 30,000 per session. “The Indian market is seeing a surge in demand for high-end, evidence-based treatments,” says Dr Hooda. “NAD+ fits perfectly into this space, appealing to health-conscious millennials and the ultra-wealthy alike.” Affordable NAD+ supplements, manufactured by Indian pharmaceutical companies, are also making their way into drugstores and e-commerce platforms. Experts believe this accessibility could make NAD+ the next big thing in India’s burgeoning nutraceutical market.The science vs the hype While NAD+ shows immense promise, skeptics caution against over-reliance on it as a miracle cure. Dr Hooda advises, “It’s important to pair NAD+ therapies with a balanced diet, exercise, and a healthy lifestyle. The molecule is a tool, not a standalone solution.”The verdict As awareness of NAD+ grows, India stands poised to become a major player in this global trend. With celebrities endorsing it and experts advocating its benefits, the “magic molecule” might just be the future of wellness. Whether you’re a fitness enthusiast or simply looking to age gracefully, NAD+ offers a compelling promise: a chance to biohack your way to better health.Published By: Tiasa Bhowal Published On: Dec 18, 2024Must Watch \\n'"
      ]
     },
     "execution_count": 41,
     "metadata": {},
     "output_type": "execute_result"
    }
   ],
   "source": [
    "content"
   ]
  },
  {
   "cell_type": "code",
   "execution_count": 46,
   "metadata": {},
   "outputs": [
    {
     "data": {
      "text/plain": [
       "'UPDATED: Dec 18, 2024 19:15 IST'"
      ]
     },
     "execution_count": 46,
     "metadata": {},
     "output_type": "execute_result"
    }
   ],
   "source": [
    "s.find(\"span\" , class_ = \"jsx-ace90f4eca22afc7 strydate\").text"
   ]
  },
  {
   "cell_type": "code",
   "execution_count": 35,
   "metadata": {},
   "outputs": [
    {
     "data": {
      "text/html": [
       "<div>\n",
       "<style scoped>\n",
       "    .dataframe tbody tr th:only-of-type {\n",
       "        vertical-align: middle;\n",
       "    }\n",
       "\n",
       "    .dataframe tbody tr th {\n",
       "        vertical-align: top;\n",
       "    }\n",
       "\n",
       "    .dataframe thead th {\n",
       "        text-align: right;\n",
       "    }\n",
       "</style>\n",
       "<table border=\"1\" class=\"dataframe\">\n",
       "  <thead>\n",
       "    <tr style=\"text-align: right;\">\n",
       "      <th></th>\n",
       "      <th>headlines</th>\n",
       "      <th>link</th>\n",
       "      <th>content</th>\n",
       "      <th>category</th>\n",
       "    </tr>\n",
       "  </thead>\n",
       "  <tbody>\n",
       "    <tr>\n",
       "      <th>2</th>\n",
       "      <td>You've been misunderstanding Trauma Bonding al...</td>\n",
       "      <td>https://www.indiatoday.in/lifestyle/relationsh...</td>\n",
       "      <td>When we say \"trauma bonding\"—what comes to min...</td>\n",
       "      <td>lifestyle</td>\n",
       "    </tr>\n",
       "    <tr>\n",
       "      <th>14</th>\n",
       "      <td>How long can you wear makeup without risking s...</td>\n",
       "      <td>https://www.indiatoday.in/lifestyle/beauty/sto...</td>\n",
       "      <td>You might be the 'just a little blush, and I'm...</td>\n",
       "      <td>lifestyle</td>\n",
       "    </tr>\n",
       "    <tr>\n",
       "      <th>12</th>\n",
       "      <td>Is winter depression real? Experts weigh inSea...</td>\n",
       "      <td>https://www.indiatoday.in/lifestyle/wellness/s...</td>\n",
       "      <td>You are not alone if the gloomy, cold weather ...</td>\n",
       "      <td>lifestyle</td>\n",
       "    </tr>\n",
       "    <tr>\n",
       "      <th>16</th>\n",
       "      <td>Why a turtleneck is the fashion BFF you need t...</td>\n",
       "      <td>https://www.indiatoday.in/lifestyle/fashion/st...</td>\n",
       "      <td>POV: It's time to get up! The alarm rings, but...</td>\n",
       "      <td>lifestyle</td>\n",
       "    </tr>\n",
       "    <tr>\n",
       "      <th>1</th>\n",
       "      <td>Can microdosing on Ozempic help you lose weigh...</td>\n",
       "      <td>https://www.indiatoday.in/lifestyle/wellness/s...</td>\n",
       "      <td>The weight-loss market is evolving more than e...</td>\n",
       "      <td>lifestyle</td>\n",
       "    </tr>\n",
       "  </tbody>\n",
       "</table>\n",
       "</div>"
      ],
      "text/plain": [
       "                                            headlines  \\\n",
       "2   You've been misunderstanding Trauma Bonding al...   \n",
       "14  How long can you wear makeup without risking s...   \n",
       "12  Is winter depression real? Experts weigh inSea...   \n",
       "16  Why a turtleneck is the fashion BFF you need t...   \n",
       "1   Can microdosing on Ozempic help you lose weigh...   \n",
       "\n",
       "                                                 link  \\\n",
       "2   https://www.indiatoday.in/lifestyle/relationsh...   \n",
       "14  https://www.indiatoday.in/lifestyle/beauty/sto...   \n",
       "12  https://www.indiatoday.in/lifestyle/wellness/s...   \n",
       "16  https://www.indiatoday.in/lifestyle/fashion/st...   \n",
       "1   https://www.indiatoday.in/lifestyle/wellness/s...   \n",
       "\n",
       "                                              content   category  \n",
       "2   When we say \"trauma bonding\"—what comes to min...  lifestyle  \n",
       "14  You might be the 'just a little blush, and I'm...  lifestyle  \n",
       "12  You are not alone if the gloomy, cold weather ...  lifestyle  \n",
       "16  POV: It's time to get up! The alarm rings, but...  lifestyle  \n",
       "1   The weight-loss market is evolving more than e...  lifestyle  "
      ]
     },
     "execution_count": 35,
     "metadata": {},
     "output_type": "execute_result"
    }
   ],
   "source": [
    "df.sample(5)"
   ]
  },
  {
   "cell_type": "code",
   "execution_count": 36,
   "metadata": {},
   "outputs": [
    {
     "data": {
      "text/plain": [
       "187"
      ]
     },
     "execution_count": 36,
     "metadata": {},
     "output_type": "execute_result"
    }
   ],
   "source": [
    "len(df.iloc[0][\"headlines\"])"
   ]
  },
  {
   "cell_type": "code",
   "execution_count": 37,
   "metadata": {},
   "outputs": [
    {
     "name": "stdout",
     "output_type": "stream",
     "text": [
      "<class 'pandas.core.frame.DataFrame'>\n",
      "RangeIndex: 20 entries, 0 to 19\n",
      "Data columns (total 4 columns):\n",
      " #   Column     Non-Null Count  Dtype \n",
      "---  ------     --------------  ----- \n",
      " 0   headlines  20 non-null     object\n",
      " 1   link       20 non-null     object\n",
      " 2   content    20 non-null     object\n",
      " 3   category   20 non-null     object\n",
      "dtypes: object(4)\n",
      "memory usage: 768.0+ bytes\n"
     ]
    }
   ],
   "source": [
    "df.info()"
   ]
  },
  {
   "cell_type": "code",
   "execution_count": null,
   "metadata": {},
   "outputs": [],
   "source": []
  }
 ],
 "metadata": {
  "kernelspec": {
   "display_name": "git_repos_venv",
   "language": "python",
   "name": "python3"
  },
  "language_info": {
   "codemirror_mode": {
    "name": "ipython",
    "version": 3
   },
   "file_extension": ".py",
   "mimetype": "text/x-python",
   "name": "python",
   "nbconvert_exporter": "python",
   "pygments_lexer": "ipython3",
   "version": "3.10.10"
  }
 },
 "nbformat": 4,
 "nbformat_minor": 2
}
